{
  "nbformat": 4,
  "nbformat_minor": 0,
  "metadata": {
    "colab": {
      "provenance": []
    },
    "kernelspec": {
      "name": "python3",
      "display_name": "Python 3"
    },
    "language_info": {
      "name": "python"
    }
  },
  "cells": [
    {
      "cell_type": "markdown",
      "source": [
        "Suponga que se entrevistan a 15000 personas para aplicar al puesto de astronautas. De los cuales se escogerán exclusivamente 15. El trabajo duro, la aptitud y desempeño juegan un rol fundamental para la selección de los candidatos, pero la suerte durante la entrevista y el proceso de selección también lo juega. Realice un algoritmo para simular:\n"
      ],
      "metadata": {
        "id": "S5j1urozVQc-"
      }
    },
    {
      "cell_type": "code",
      "execution_count": null,
      "metadata": {
        "id": "duTKwi1gU2Hc"
      },
      "outputs": [],
      "source": [
        "import numpy as np\n",
        "import pandas as pd\n",
        "import itertools\n",
        "import matplotlib.pyplot as plt\n",
        "import seaborn as sns\n",
        "sns.set()"
      ]
    },
    {
      "cell_type": "code",
      "source": [
        "#Importamos datos necesarios para tener nombres que puedan identificar a los participantes\n",
        "df_names = pd.read_csv('https://raw.githubusercontent.com/tomasate/Datos_Clases/main/Datos_1/names.csv')\n",
        "df_lastnames = pd.read_csv('https://raw.githubusercontent.com/marcboquet/spanish-names/master/apellidos.csv')\n",
        "\n",
        "#Seleccionamos exclusivamente la cantidad de usuarios que requerimos\n",
        "names = df_names.loc[:130,'nombre']\n",
        "lastnames = df_lastnames.loc[:130,'apellido']\\\n",
        "                        .apply(str.lower)\\\n",
        "                        .apply(str.capitalize)\n",
        "\n",
        "#Construcción de lista de nombres\n",
        "nombres = [element[0] +\" \"+  element[1] for element in\n",
        "           list(itertools.product(names.to_list(),\n",
        "                                  lastnames.to_list()\n",
        "                                  )\n",
        "           )][:15000]\n"
      ],
      "metadata": {
        "id": "eCSyPTDzbN_m"
      },
      "execution_count": null,
      "outputs": []
    },
    {
      "cell_type": "code",
      "source": [
        "nombres"
      ],
      "metadata": {
        "id": "xs5s4aSnGS0P"
      },
      "execution_count": null,
      "outputs": []
    },
    {
      "cell_type": "code",
      "source": [
        "def get_luck_means_stds_df(nombres_list : list = nombres ,\n",
        "                           eff_coef : float = 0.90 ,\n",
        "                           luck_coef : float  = 0.10):\n",
        "\n",
        "  \"\"\"\n",
        "  Toma una lista de nombres, genera números aleatorios de esfuerzo y suerte\n",
        "  con distribuciones gaussianas y uniformes para cada uno de los nombres en\n",
        "  la lista y guarda todo en un DataFrame de pandas. Además calcula en una columna\n",
        "  adicional del Dataframe el desempeño de cada participante como una combinación\n",
        "  lineal de el esuerzo y la suerte, con parámetros de eff_coef y luck_coef, ordena\n",
        "  el DataFrame por el esfuerzo de forma descendente y finalmente presenta los primeros\n",
        "  15 que serían los seleccionados.\n",
        "\n",
        "  La función devuelve el valor promedio y la desviasión estandard de la suerte de los\n",
        "  ganadores, así como el DataFrame donde está la info de cada uno de ellos.\n",
        "\n",
        "  Ej: Supongamos que se quiere hacer un ejemplo donde los nombres_list están en una lista\n",
        "      llamada  names, y los coeficientes son 0.95 y 0.05:\n",
        "\n",
        "      In[1]: get_luck_means_stds(nombres_list = names,\n",
        "                                 eff_coef = 0.95,\n",
        "                                 luck_coef = 0.05)\n",
        "  \"\"\"\n",
        "  df = pd.DataFrame(data = nombres_list, columns = ['Names'])\n",
        "  df['Efford'] = np.random.normal(75,\n",
        "                                  6,\n",
        "                                  len(nombres_list))\n",
        "  df['Luck'] = np.random.uniform(0,\n",
        "                                 100,\n",
        "                                 len(nombres_list))\n",
        "  df['Performance'] = df['Efford'] * eff_coef\\\n",
        "                      + df['Luck'] * luck_coef\n",
        "  df_winners = df.sort_values(by = 'Performance',\n",
        "                              ascending = False).iloc[:15]\n",
        "\n",
        "  return (df_winners['Luck'].mean(),\n",
        "          df_winners['Luck'].std(),\n",
        "          df)\n"
      ],
      "metadata": {
        "id": "DKOyj1h1aRky"
      },
      "execution_count": null,
      "outputs": []
    },
    {
      "cell_type": "code",
      "source": [
        "get_luck_means_stds_df()[:2]"
      ],
      "metadata": {
        "colab": {
          "base_uri": "https://localhost:8080/"
        },
        "id": "nkxc3S1H8gjq",
        "outputId": "fddbf75c-cc40-4c71-8f6c-8a6ba27ee66a"
      },
      "execution_count": null,
      "outputs": [
        {
          "output_type": "execute_result",
          "data": {
            "text/plain": [
              "(83.55577959120298, 11.164460229280216)"
            ]
          },
          "metadata": {},
          "execution_count": 5
        }
      ]
    },
    {
      "cell_type": "code",
      "source": [
        "# Realización de 100 experimentos de selección de astronautas\n",
        "lt = [get_luck_means_stds_df()[0:2] for i in range(100)]\n",
        "\n",
        "#promedios y desviaciones por experimento\n",
        "mus = [element[0] for element in lt]\n",
        "sigmas = [element[1] for element in lt]"
      ],
      "metadata": {
        "id": "eq8wUIxqpj7I"
      },
      "execution_count": null,
      "outputs": []
    },
    {
      "cell_type": "code",
      "source": [
        "#binneado para graficación\n",
        "bins = [i for i in range(60,110,30)]\n",
        "min(mus), max(mus)"
      ],
      "metadata": {
        "colab": {
          "base_uri": "https://localhost:8080/"
        },
        "id": "lBQVgvJmAYyU",
        "outputId": "bd25232f-2f6b-4931-ea49-084ff6e1d8ab"
      },
      "execution_count": null,
      "outputs": [
        {
          "output_type": "execute_result",
          "data": {
            "text/plain": [
              "(73.1665314361083, 92.40581092417064)"
            ]
          },
          "metadata": {},
          "execution_count": 7
        }
      ]
    },
    {
      "cell_type": "code",
      "source": [
        "plt.figure(figsize = (7, 6))\n",
        "plt.hist(mus, bins = 10)\n",
        "plt.xlabel(r'$\\mu$ winners distribution')\n",
        "plt.ylabel(r'Number of Experiments')\n",
        "plt.show()"
      ],
      "metadata": {
        "colab": {
          "base_uri": "https://localhost:8080/",
          "height": 557
        },
        "id": "29jaajh_-dPI",
        "outputId": "0eb70ae3-d17c-475c-d8e3-6f5271533718"
      },
      "execution_count": null,
      "outputs": [
        {
          "output_type": "display_data",
          "data": {
            "text/plain": [
              "<Figure size 700x600 with 1 Axes>"
            ],
            "image/png": "[encoded data removed]"
          },
          "metadata": {}
        }
      ]
    },
    {
      "cell_type": "markdown",
      "source": [
        "Esta distribución muestra y nos da una idea de cuál es el comportamiento de la suerte de los seleccionados a traves de varias repeticiones de los experimentos. En este caso podríamos formular una hipótesis estadística $H_1$: Los astronautas seleccionados suelen tener un promedio de suerte mayor a $80$ puntos en un rango $[0,100]$. Para ello utilizamos una función de distribución $Z$.\n",
        "\n",
        "\n",
        "$$Z = \\frac{\\bar{x} - \\mu}{\\frac{\\sigma ^2}{\\sqrt{n}}}$$\n",
        "\n",
        "Ahora daremos un valor de la significancia $\\alpha$, que determinará la probabilidad de cometer un error de tipo I al rechazar incorrectamente la hipótesis nula.\n",
        "\n",
        "En nuestro caso $\\mu = 80$, $\\bar{x}$ es el promedio de las medias de la suerte sobre los experimentos, $\\sigma$ es la desviación estandar de los promedios de suerte sobre todos los experimentos y finalmente $n = 100$. Además si consultamos en una tabla de Z-test el valor de Z correspondiente a $\\alpha$ veremos que es equivalente a $1.65$. En nuestro caso quiere decir que si obtenemos $Z > 1.65$ podemos rechazar la hipótesis nula con una aceptancia de $95 \\%$."
      ],
      "metadata": {
        "id": "pAMFfPgUDmS7"
      }
    },
    {
      "cell_type": "code",
      "source": [
        "#Variables para el test de hipótesis\n",
        "x_bar = np.mean(mus)\n",
        "mu = 80\n",
        "sigma = np.std(mus)\n",
        "n = 100"
      ],
      "metadata": {
        "id": "abaxHNN5oLr2"
      },
      "execution_count": null,
      "outputs": []
    },
    {
      "cell_type": "markdown",
      "source": [
        "Con esto podemos calcular el valor $Z$ de nuestros datos"
      ],
      "metadata": {
        "id": "TISUWrKi4_iP"
      }
    },
    {
      "cell_type": "code",
      "source": [
        "Z = (x_bar-mu)/(sigma/(n**0.5))\n",
        "Z"
      ],
      "metadata": {
        "colab": {
          "base_uri": "https://localhost:8080/"
        },
        "id": "50vZMoAH4bwH",
        "outputId": "ac41833f-2086-47e2-ba21-cafe1d1f95cb"
      },
      "execution_count": null,
      "outputs": [
        {
          "output_type": "execute_result",
          "data": {
            "text/plain": [
              "9.900954495244772"
            ]
          },
          "metadata": {},
          "execution_count": 12
        }
      ]
    },
    {
      "cell_type": "markdown",
      "source": [
        "Podemos ver que nuestro valor de $Z$ es mayor que el $Z_C$ crítico. Por lo que descartamos nuestra hipótesis nula $H_0$ y aceptamos nuestra hipótesis auxiliar:  Los astronautas seleccionados suelen tener un promedio de suerte mayor a  80  puntos en un rango  [0,100]"
      ],
      "metadata": {
        "id": "gDaO2fON8Xoh"
      }
    },
    {
      "cell_type": "code",
      "source": [],
      "metadata": {
        "id": "FFJFiZc17yjS"
      },
      "execution_count": null,
      "outputs": []
    }
  ]
}